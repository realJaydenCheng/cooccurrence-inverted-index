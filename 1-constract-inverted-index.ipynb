{
 "cells": [
  {
   "cell_type": "code",
   "execution_count": 1,
   "metadata": {
    "ExecuteTime": {
     "start_time": "2023-04-21T13:19:40.905814Z",
     "end_time": "2023-04-21T13:19:41.640234Z"
    }
   },
   "outputs": [],
   "source": [
    "from elasticsearch import Elasticsearch\n",
    "from algorithm import index\n",
    "import pandas as pd"
   ]
  },
  {
   "cell_type": "code",
   "execution_count": 2,
   "metadata": {
    "ExecuteTime": {
     "start_time": "2023-04-21T13:19:41.642233Z",
     "end_time": "2023-04-21T13:19:47.868383Z"
    }
   },
   "outputs": [],
   "source": [
    "data_path = \"./data/csl_camera_readly.tsv\"\n",
    "with open(data_path, \"r+\", encoding=\"utf-8\") as file:\n",
    "    file.seek(0)\n",
    "    file.write(file.read().replace('\"', '`'))\n"
   ]
  },
  {
   "cell_type": "code",
   "execution_count": 3,
   "metadata": {
    "ExecuteTime": {
     "start_time": "2023-04-21T13:19:47.870395Z",
     "end_time": "2023-04-21T13:20:21.034564Z"
    }
   },
   "outputs": [
    {
     "data": {
      "text/plain": "                                title   \n0        谷物联合收获机自动测产系统设计-基于变权分层激活扩散模型  \\\n1                酞菁改性聚苯乙炔高分子的微波介电性能研究   \n2                      农用运输车柴油机排放控制探讨   \n3                   点式安装玻璃幕墙在火灾中的破裂行为   \n4                     火箭橇多路时序点火控制系统设计   \n...                               ...   \n3169500           基于功能梯度表面的微型热管换热性能研究   \n3169501               严控人畜共患病保障公共卫生安全   \n3169502          摇摆状态下竖直管内单相水阻力特性实验研究   \n3169503     私有出租房屋的社会主义改造--以苏州市为个案的考察   \n3169504                罗伊·麦德维杰夫谈俄罗斯形势   \n\n                                                   content   \n0        为了使联合收割机具有自动测产功能，提出了一种基于变权分层激活扩散的产量预测误差剔除模型，并使...  \\\n1        针对电磁环境的严重污染,克服目前电磁屏蔽的弊端,用吸波材料从根本上消除电磁污染是关注的方向....   \n2        介绍了农用柴油机排放的生成机理,探讨了控制农用柴油机排放的具体措施,并对今后控制农用柴油机排...   \n3        使用500,mm×500,mm正庚烷池火作为火源，通过全尺寸实验研究了1,200,mm×1,...   \n4        为了解决火箭橇试验中橇体长时间巡航运动的问题,采取了火箭发动机橇载多路时序点火控制的方法,分...   \n...                                                    ...   \n3169500  通过将液固接触角沿轴向呈阶梯状分布的功能表面引入到三角形微型热管的一维稳态模型之中,分析了其...   \n3169501   近年来,在世界范围频频发生口蹄疫、疯牛病、禽流感等多种人畜共患病,其严重地威胁人类健康和畜...   \n3169502  在3种不同摇摆周期(5s、10s、15s)、2种不同摇摆角度(10°、20°)的情况下,分别...   \n3169503  私有出租房屋的社会主义改造是整个社会主义改造工作的重要组成部分。苏州市的私租房改造于1956...   \n3169504   2002年1月30日,应北京大学国际关系学院邀请出席`冷战后的世界社会主义`国际会议的俄罗...   \n\n                                                  keywords     subject   \n0                                     联合收割机_测产系统_变权分层_激活扩散        农业工程  \\\n1                                            酞菁铁_聚苯乙炔_吸波材料  化学/化学工程与技术   \n2                                            农用柴油机_排放_控制技术        农业工程   \n3                             点式安装玻璃幕墙_火灾_破裂行为_全尺寸实验_有限元方法  动力工程及工程热物理   \n4                                  时序点火_远程控制_控制信号_时间精度_可靠性     兵器科学与技术   \n...                                                    ...         ...   \n3169500                                  微型热管_功能表面_毛细力_剪切力     电子科学与技术   \n3169501  人畜共患病_公共_生活水平提高_畜牧业发展_发病率增加_动物性食品_卫生事件_卫生安全_生活...     畜牧学/兽医学   \n3169502                                 摇摆_单相流_阻力特性_摩擦阻力系数      核科学与技术   \n3169503                                私有出租住房_社会主义改造_私租房改造         历史学   \n3169504  俄罗斯_政治经济形势_世界社会主义_国际关系学_内容介绍_历史学家_劳动人民_国际会议_报告...         政治学   \n\n        category  \n0             工学  \n1             工学  \n2             工学  \n3             工学  \n4             工学  \n...          ...  \n3169500       工学  \n3169501       农学  \n3169502       工学  \n3169503      历史学  \n3169504       法学  \n\n[3169505 rows x 5 columns]",
      "text/html": "<div>\n<style scoped>\n    .dataframe tbody tr th:only-of-type {\n        vertical-align: middle;\n    }\n\n    .dataframe tbody tr th {\n        vertical-align: top;\n    }\n\n    .dataframe thead th {\n        text-align: right;\n    }\n</style>\n<table border=\"1\" class=\"dataframe\">\n  <thead>\n    <tr style=\"text-align: right;\">\n      <th></th>\n      <th>title</th>\n      <th>content</th>\n      <th>keywords</th>\n      <th>subject</th>\n      <th>category</th>\n    </tr>\n  </thead>\n  <tbody>\n    <tr>\n      <th>0</th>\n      <td>谷物联合收获机自动测产系统设计-基于变权分层激活扩散模型</td>\n      <td>为了使联合收割机具有自动测产功能，提出了一种基于变权分层激活扩散的产量预测误差剔除模型，并使...</td>\n      <td>联合收割机_测产系统_变权分层_激活扩散</td>\n      <td>农业工程</td>\n      <td>工学</td>\n    </tr>\n    <tr>\n      <th>1</th>\n      <td>酞菁改性聚苯乙炔高分子的微波介电性能研究</td>\n      <td>针对电磁环境的严重污染,克服目前电磁屏蔽的弊端,用吸波材料从根本上消除电磁污染是关注的方向....</td>\n      <td>酞菁铁_聚苯乙炔_吸波材料</td>\n      <td>化学/化学工程与技术</td>\n      <td>工学</td>\n    </tr>\n    <tr>\n      <th>2</th>\n      <td>农用运输车柴油机排放控制探讨</td>\n      <td>介绍了农用柴油机排放的生成机理,探讨了控制农用柴油机排放的具体措施,并对今后控制农用柴油机排...</td>\n      <td>农用柴油机_排放_控制技术</td>\n      <td>农业工程</td>\n      <td>工学</td>\n    </tr>\n    <tr>\n      <th>3</th>\n      <td>点式安装玻璃幕墙在火灾中的破裂行为</td>\n      <td>使用500,mm×500,mm正庚烷池火作为火源，通过全尺寸实验研究了1,200,mm×1,...</td>\n      <td>点式安装玻璃幕墙_火灾_破裂行为_全尺寸实验_有限元方法</td>\n      <td>动力工程及工程热物理</td>\n      <td>工学</td>\n    </tr>\n    <tr>\n      <th>4</th>\n      <td>火箭橇多路时序点火控制系统设计</td>\n      <td>为了解决火箭橇试验中橇体长时间巡航运动的问题,采取了火箭发动机橇载多路时序点火控制的方法,分...</td>\n      <td>时序点火_远程控制_控制信号_时间精度_可靠性</td>\n      <td>兵器科学与技术</td>\n      <td>工学</td>\n    </tr>\n    <tr>\n      <th>...</th>\n      <td>...</td>\n      <td>...</td>\n      <td>...</td>\n      <td>...</td>\n      <td>...</td>\n    </tr>\n    <tr>\n      <th>3169500</th>\n      <td>基于功能梯度表面的微型热管换热性能研究</td>\n      <td>通过将液固接触角沿轴向呈阶梯状分布的功能表面引入到三角形微型热管的一维稳态模型之中,分析了其...</td>\n      <td>微型热管_功能表面_毛细力_剪切力</td>\n      <td>电子科学与技术</td>\n      <td>工学</td>\n    </tr>\n    <tr>\n      <th>3169501</th>\n      <td>严控人畜共患病保障公共卫生安全</td>\n      <td>近年来,在世界范围频频发生口蹄疫、疯牛病、禽流感等多种人畜共患病,其严重地威胁人类健康和畜...</td>\n      <td>人畜共患病_公共_生活水平提高_畜牧业发展_发病率增加_动物性食品_卫生事件_卫生安全_生活...</td>\n      <td>畜牧学/兽医学</td>\n      <td>农学</td>\n    </tr>\n    <tr>\n      <th>3169502</th>\n      <td>摇摆状态下竖直管内单相水阻力特性实验研究</td>\n      <td>在3种不同摇摆周期(5s、10s、15s)、2种不同摇摆角度(10°、20°)的情况下,分别...</td>\n      <td>摇摆_单相流_阻力特性_摩擦阻力系数</td>\n      <td>核科学与技术</td>\n      <td>工学</td>\n    </tr>\n    <tr>\n      <th>3169503</th>\n      <td>私有出租房屋的社会主义改造--以苏州市为个案的考察</td>\n      <td>私有出租房屋的社会主义改造是整个社会主义改造工作的重要组成部分。苏州市的私租房改造于1956...</td>\n      <td>私有出租住房_社会主义改造_私租房改造</td>\n      <td>历史学</td>\n      <td>历史学</td>\n    </tr>\n    <tr>\n      <th>3169504</th>\n      <td>罗伊·麦德维杰夫谈俄罗斯形势</td>\n      <td>2002年1月30日,应北京大学国际关系学院邀请出席`冷战后的世界社会主义`国际会议的俄罗...</td>\n      <td>俄罗斯_政治经济形势_世界社会主义_国际关系学_内容介绍_历史学家_劳动人民_国际会议_报告...</td>\n      <td>政治学</td>\n      <td>法学</td>\n    </tr>\n  </tbody>\n</table>\n<p>3169505 rows × 5 columns</p>\n</div>"
     },
     "execution_count": 3,
     "metadata": {},
     "output_type": "execute_result"
    }
   ],
   "source": [
    "data = pd.read_table(\n",
    "    data_path,\n",
    "    on_bad_lines=\"skip\",\n",
    "    header=None,\n",
    ")\n",
    "data = data.rename(\n",
    "    columns={\n",
    "        i: k for i, k in enumerate([\n",
    "            \"title\", \"content\", \"keywords\", \"subject\", \"category\"\n",
    "        ])}\n",
    ")\n",
    "data"
   ]
  },
  {
   "cell_type": "code",
   "execution_count": 4,
   "metadata": {
    "ExecuteTime": {
     "start_time": "2023-04-21T13:20:21.051568Z",
     "end_time": "2023-04-21T13:20:21.234560Z"
    }
   },
   "outputs": [
    {
     "data": {
      "text/plain": "array(['农业工程', '化学/化学工程与技术', '动力工程及工程热物理', '兵器科学与技术', '机械工程', '纺织科学与工程',\n       '大气科学', '园艺学', '哲学', '力学', '水产', '林学/林业工程', '艺术学', '历史学', '农林经济管理',\n       '地理学', '工商管理', '体育学', '畜牧学/兽医学', '冶金工程', '环境科学与工程', '航空宇航科学与技术',\n       '船舶与海洋工程', '材料科学与工程', '信息与通信工程', '图书馆、情报与档案管理', '军事学', '核科学与技术',\n       '建筑学', '矿业工程', '食品科学与工程', '公共管理', '光学工程', '社会学', '交通运输工程', '理论经济学',\n       '中国语言文学', '土木工程', '电气工程', '药学', '民族学', '计算机科学与技术', '作物学',\n       '基础医学/临床医学', '新闻传播学', '应用经济学', '电子科学与技术', '测绘科学与技术',\n       '地质学/地质资源与地质工程', '中医学/中药学', '法学', '水利工程', '数学', '心理学',\n       '生物学/生物科学与工程', '政治学', '石油与天然气工程', '公共卫生与预防医学', '农业资源利用', '海洋科学',\n       '教育学', '口腔医学', '物理学', '控制科学与工程', '天文学', '植物保护', '地球物理学', '工学',\n       '农学', '管理学', '经济学', '理学'], dtype=object)"
     },
     "execution_count": 4,
     "metadata": {},
     "output_type": "execute_result"
    }
   ],
   "source": [
    "data[\"subject\"].unique()"
   ]
  },
  {
   "cell_type": "code",
   "execution_count": 5,
   "metadata": {
    "ExecuteTime": {
     "start_time": "2023-04-21T13:20:21.236567Z",
     "end_time": "2023-04-21T13:20:21.375567Z"
    }
   },
   "outputs": [
    {
     "data": {
      "text/plain": "array(['工学', '理学', '农学', '哲学', '艺术学', '历史学', '管理学', '教育学', '军事学', '法学',\n       '经济学', '文学', '医学', nan], dtype=object)"
     },
     "execution_count": 5,
     "metadata": {},
     "output_type": "execute_result"
    }
   ],
   "source": [
    "data[\"category\"].unique()"
   ]
  },
  {
   "cell_type": "code",
   "execution_count": 6,
   "metadata": {
    "ExecuteTime": {
     "start_time": "2023-04-21T13:20:21.378567Z",
     "end_time": "2023-04-21T13:20:21.410562Z"
    }
   },
   "outputs": [
    {
     "data": {
      "text/plain": "{'name': 'node0',\n 'cluster_name': 'docbase',\n 'cluster_uuid': '63TQlJkjRvyY3NtujxmYuQ',\n 'version': {'number': '8.6.1',\n  'build_flavor': 'default',\n  'build_type': 'zip',\n  'build_hash': '180c9830da956993e59e2cd70eb32b5e383ea42c',\n  'build_date': '2023-01-24T21:35:11.506992272Z',\n  'build_snapshot': False,\n  'lucene_version': '9.4.2',\n  'minimum_wire_compatibility_version': '7.17.0',\n  'minimum_index_compatibility_version': '7.0.0'},\n 'tagline': 'You Know, for Search'}"
     },
     "execution_count": 6,
     "metadata": {},
     "output_type": "execute_result"
    }
   ],
   "source": [
    "es = Elasticsearch(\n",
    "    hosts=\"http://127.0.0.1:9204\",\n",
    ")\n",
    "dict(es.info())"
   ]
  },
  {
   "cell_type": "code",
   "execution_count": 7,
   "metadata": {
    "ExecuteTime": {
     "start_time": "2023-04-21T13:20:21.393566Z",
     "end_time": "2023-04-21T13:20:21.411563Z"
    }
   },
   "outputs": [
    {
     "data": {
      "text/plain": "Invert Index Instance 21f1cb1f4c0 <Elasticsearch(['http://127.0.0.1:9204'])> co_occ_test"
     },
     "execution_count": 7,
     "metadata": {},
     "output_type": "execute_result"
    }
   ],
   "source": [
    "index = index.InvertedIndex(es)\n",
    "index"
   ]
  },
  {
   "cell_type": "code",
   "execution_count": 8,
   "metadata": {
    "ExecuteTime": {
     "start_time": "2023-04-21T13:20:21.410562Z",
     "end_time": "2023-04-21T13:20:21.432566Z"
    }
   },
   "outputs": [
    {
     "name": "stdout",
     "output_type": "stream",
     "text": [
      "NotFoundError(404, 'index_not_found_exception', 'no such index [co_occ_test]', co_occ_test, index_or_alias)\n"
     ]
    }
   ],
   "source": [
    "try:\n",
    "    res = index.delete_index_and_data()\n",
    "    print(res)\n",
    "except Exception as e:\n",
    "    print(e)"
   ]
  },
  {
   "cell_type": "code",
   "execution_count": 9,
   "metadata": {
    "ExecuteTime": {
     "start_time": "2023-04-21T13:20:21.428572Z",
     "end_time": "2023-04-21T13:48:59.098613Z"
    }
   },
   "outputs": [
    {
     "name": "stdout",
     "output_type": "stream",
     "text": [
      "{'acknowledged': True, 'shards_acknowledged': True, 'index': 'co_occ_test'}\n"
     ]
    },
    {
     "data": {
      "text/plain": "(3169505, [])"
     },
     "execution_count": 9,
     "metadata": {},
     "output_type": "execute_result"
    }
   ],
   "source": [
    "print(index.set_index())\n",
    "index.index_data(data[\"content\"])\n"
   ]
  },
  {
   "cell_type": "code",
   "execution_count": 10,
   "metadata": {
    "ExecuteTime": {
     "start_time": "2023-04-21T13:48:59.099621Z",
     "end_time": "2023-04-21T13:48:59.130621Z"
    }
   },
   "outputs": [
    {
     "data": {
      "text/plain": "Invert Index Instance 21f1cb1f4c0 <Elasticsearch(['http://127.0.0.1:9204'])> co_occ_test"
     },
     "execution_count": 10,
     "metadata": {},
     "output_type": "execute_result"
    }
   ],
   "source": [
    "index"
   ]
  }
 ],
 "metadata": {
  "kernelspec": {
   "display_name": ".venv",
   "language": "python",
   "name": "python3"
  },
  "language_info": {
   "codemirror_mode": {
    "name": "ipython",
    "version": 3
   },
   "file_extension": ".py",
   "mimetype": "text/x-python",
   "name": "python",
   "nbconvert_exporter": "python",
   "pygments_lexer": "ipython3",
   "version": "3.9.13"
  },
  "orig_nbformat": 4
 },
 "nbformat": 4,
 "nbformat_minor": 2
}
