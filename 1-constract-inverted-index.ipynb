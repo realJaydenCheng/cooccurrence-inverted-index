{
 "cells": [
  {
   "cell_type": "code",
   "execution_count": 1,
   "metadata": {
    "ExecuteTime": {
     "end_time": "2023-04-21T13:19:41.640234Z",
     "start_time": "2023-04-21T13:19:40.905814Z"
    }
   },
   "outputs": [],
   "source": [
    "from elasticsearch import Elasticsearch\n",
    "from algorithm import index\n",
    "import pandas as pd"
   ]
  },
  {
   "cell_type": "markdown",
   "metadata": {},
   "source": [
    "替换半角双引号避免tsv文件读取错误"
   ]
  },
  {
   "cell_type": "code",
   "execution_count": 2,
   "metadata": {
    "ExecuteTime": {
     "end_time": "2023-04-21T13:19:47.868383Z",
     "start_time": "2023-04-21T13:19:41.642233Z"
    }
   },
   "outputs": [],
   "source": [
    "data_path = \"./data/csl_camera_readly.tsv\"\n",
    "data_str: str\n",
    "with open(data_path, \"r\", encoding=\"utf-8\") as in_file:\n",
    "    in_file.seek(0)\n",
    "    data_str = in_file.read().replace('\"', '`')\n",
    "with open(data_path, \"w\", encoding=\"utf-8\") as out_file:\n",
    "    out_file.write(data_str)\n"
   ]
  },
  {
   "cell_type": "markdown",
   "metadata": {},
   "source": [
    "查看数据基本情况"
   ]
  },
  {
   "cell_type": "code",
   "execution_count": 3,
   "metadata": {
    "ExecuteTime": {
     "end_time": "2023-04-21T13:20:21.034564Z",
     "start_time": "2023-04-21T13:19:47.870395Z"
    }
   },
   "outputs": [
    {
     "data": {
      "text/html": [
       "<div>\n",
       "<style scoped>\n",
       "    .dataframe tbody tr th:only-of-type {\n",
       "        vertical-align: middle;\n",
       "    }\n",
       "\n",
       "    .dataframe tbody tr th {\n",
       "        vertical-align: top;\n",
       "    }\n",
       "\n",
       "    .dataframe thead th {\n",
       "        text-align: right;\n",
       "    }\n",
       "</style>\n",
       "<table border=\"1\" class=\"dataframe\">\n",
       "  <thead>\n",
       "    <tr style=\"text-align: right;\">\n",
       "      <th></th>\n",
       "      <th>title</th>\n",
       "      <th>content</th>\n",
       "      <th>keywords</th>\n",
       "      <th>subject</th>\n",
       "      <th>category</th>\n",
       "    </tr>\n",
       "  </thead>\n",
       "  <tbody>\n",
       "    <tr>\n",
       "      <th>0</th>\n",
       "      <td>谷物联合收获机自动测产系统设计-基于变权分层激活扩散模型</td>\n",
       "      <td>为了使联合收割机具有自动测产功能，提出了一种基于变权分层激活扩散的产量预测误差剔除模型，并使...</td>\n",
       "      <td>联合收割机_测产系统_变权分层_激活扩散</td>\n",
       "      <td>农业工程</td>\n",
       "      <td>工学</td>\n",
       "    </tr>\n",
       "    <tr>\n",
       "      <th>1</th>\n",
       "      <td>酞菁改性聚苯乙炔高分子的微波介电性能研究</td>\n",
       "      <td>针对电磁环境的严重污染,克服目前电磁屏蔽的弊端,用吸波材料从根本上消除电磁污染是关注的方向....</td>\n",
       "      <td>酞菁铁_聚苯乙炔_吸波材料</td>\n",
       "      <td>化学/化学工程与技术</td>\n",
       "      <td>工学</td>\n",
       "    </tr>\n",
       "    <tr>\n",
       "      <th>2</th>\n",
       "      <td>农用运输车柴油机排放控制探讨</td>\n",
       "      <td>介绍了农用柴油机排放的生成机理,探讨了控制农用柴油机排放的具体措施,并对今后控制农用柴油机排...</td>\n",
       "      <td>农用柴油机_排放_控制技术</td>\n",
       "      <td>农业工程</td>\n",
       "      <td>工学</td>\n",
       "    </tr>\n",
       "    <tr>\n",
       "      <th>3</th>\n",
       "      <td>点式安装玻璃幕墙在火灾中的破裂行为</td>\n",
       "      <td>使用500,mm×500,mm正庚烷池火作为火源，通过全尺寸实验研究了1,200,mm×1,...</td>\n",
       "      <td>点式安装玻璃幕墙_火灾_破裂行为_全尺寸实验_有限元方法</td>\n",
       "      <td>动力工程及工程热物理</td>\n",
       "      <td>工学</td>\n",
       "    </tr>\n",
       "    <tr>\n",
       "      <th>4</th>\n",
       "      <td>火箭橇多路时序点火控制系统设计</td>\n",
       "      <td>为了解决火箭橇试验中橇体长时间巡航运动的问题,采取了火箭发动机橇载多路时序点火控制的方法,分...</td>\n",
       "      <td>时序点火_远程控制_控制信号_时间精度_可靠性</td>\n",
       "      <td>兵器科学与技术</td>\n",
       "      <td>工学</td>\n",
       "    </tr>\n",
       "    <tr>\n",
       "      <th>...</th>\n",
       "      <td>...</td>\n",
       "      <td>...</td>\n",
       "      <td>...</td>\n",
       "      <td>...</td>\n",
       "      <td>...</td>\n",
       "    </tr>\n",
       "    <tr>\n",
       "      <th>396204</th>\n",
       "      <td>基于功能梯度表面的微型热管换热性能研究</td>\n",
       "      <td>通过将液固接触角沿轴向呈阶梯状分布的功能表面引入到三角形微型热管的一维稳态模型之中,分析了其...</td>\n",
       "      <td>微型热管_功能表面_毛细力_剪切力</td>\n",
       "      <td>电子科学与技术</td>\n",
       "      <td>工学</td>\n",
       "    </tr>\n",
       "    <tr>\n",
       "      <th>396205</th>\n",
       "      <td>严控人畜共患病保障公共卫生安全</td>\n",
       "      <td>近年来,在世界范围频频发生口蹄疫、疯牛病、禽流感等多种人畜共患病,其严重地威胁人类健康和畜...</td>\n",
       "      <td>人畜共患病_公共_生活水平提高_畜牧业发展_发病率增加_动物性食品_卫生事件_卫生安全_生活...</td>\n",
       "      <td>畜牧学/兽医学</td>\n",
       "      <td>农学</td>\n",
       "    </tr>\n",
       "    <tr>\n",
       "      <th>396206</th>\n",
       "      <td>摇摆状态下竖直管内单相水阻力特性实验研究</td>\n",
       "      <td>在3种不同摇摆周期(5s、10s、15s)、2种不同摇摆角度(10°、20°)的情况下,分别...</td>\n",
       "      <td>摇摆_单相流_阻力特性_摩擦阻力系数</td>\n",
       "      <td>核科学与技术</td>\n",
       "      <td>工学</td>\n",
       "    </tr>\n",
       "    <tr>\n",
       "      <th>396207</th>\n",
       "      <td>私有出租房屋的社会主义改造--以苏州市为个案的考察</td>\n",
       "      <td>私有出租房屋的社会主义改造是整个社会主义改造工作的重要组成部分。苏州市的私租房改造于1956...</td>\n",
       "      <td>私有出租住房_社会主义改造_私租房改造</td>\n",
       "      <td>历史学</td>\n",
       "      <td>历史学</td>\n",
       "    </tr>\n",
       "    <tr>\n",
       "      <th>396208</th>\n",
       "      <td>罗伊·麦德维杰夫谈俄罗斯形势</td>\n",
       "      <td>2002年1月30日,应北京大学国际关系学院邀请出席`冷战后的世界社会主义`国际会议的俄罗...</td>\n",
       "      <td>俄罗斯_政治经济形势_世界社会主义_国际关系学_内容介绍_历史学家_劳动人民_国际会议_报告...</td>\n",
       "      <td>政治学</td>\n",
       "      <td>法学</td>\n",
       "    </tr>\n",
       "  </tbody>\n",
       "</table>\n",
       "<p>396209 rows × 5 columns</p>\n",
       "</div>"
      ],
      "text/plain": [
       "                               title   \n",
       "0       谷物联合收获机自动测产系统设计-基于变权分层激活扩散模型  \\\n",
       "1               酞菁改性聚苯乙炔高分子的微波介电性能研究   \n",
       "2                     农用运输车柴油机排放控制探讨   \n",
       "3                  点式安装玻璃幕墙在火灾中的破裂行为   \n",
       "4                    火箭橇多路时序点火控制系统设计   \n",
       "...                              ...   \n",
       "396204           基于功能梯度表面的微型热管换热性能研究   \n",
       "396205               严控人畜共患病保障公共卫生安全   \n",
       "396206          摇摆状态下竖直管内单相水阻力特性实验研究   \n",
       "396207     私有出租房屋的社会主义改造--以苏州市为个案的考察   \n",
       "396208                罗伊·麦德维杰夫谈俄罗斯形势   \n",
       "\n",
       "                                                  content   \n",
       "0       为了使联合收割机具有自动测产功能，提出了一种基于变权分层激活扩散的产量预测误差剔除模型，并使...  \\\n",
       "1       针对电磁环境的严重污染,克服目前电磁屏蔽的弊端,用吸波材料从根本上消除电磁污染是关注的方向....   \n",
       "2       介绍了农用柴油机排放的生成机理,探讨了控制农用柴油机排放的具体措施,并对今后控制农用柴油机排...   \n",
       "3       使用500,mm×500,mm正庚烷池火作为火源，通过全尺寸实验研究了1,200,mm×1,...   \n",
       "4       为了解决火箭橇试验中橇体长时间巡航运动的问题,采取了火箭发动机橇载多路时序点火控制的方法,分...   \n",
       "...                                                   ...   \n",
       "396204  通过将液固接触角沿轴向呈阶梯状分布的功能表面引入到三角形微型热管的一维稳态模型之中,分析了其...   \n",
       "396205   近年来,在世界范围频频发生口蹄疫、疯牛病、禽流感等多种人畜共患病,其严重地威胁人类健康和畜...   \n",
       "396206  在3种不同摇摆周期(5s、10s、15s)、2种不同摇摆角度(10°、20°)的情况下,分别...   \n",
       "396207  私有出租房屋的社会主义改造是整个社会主义改造工作的重要组成部分。苏州市的私租房改造于1956...   \n",
       "396208   2002年1月30日,应北京大学国际关系学院邀请出席`冷战后的世界社会主义`国际会议的俄罗...   \n",
       "\n",
       "                                                 keywords     subject category  \n",
       "0                                    联合收割机_测产系统_变权分层_激活扩散        农业工程       工学  \n",
       "1                                           酞菁铁_聚苯乙炔_吸波材料  化学/化学工程与技术       工学  \n",
       "2                                           农用柴油机_排放_控制技术        农业工程       工学  \n",
       "3                            点式安装玻璃幕墙_火灾_破裂行为_全尺寸实验_有限元方法  动力工程及工程热物理       工学  \n",
       "4                                 时序点火_远程控制_控制信号_时间精度_可靠性     兵器科学与技术       工学  \n",
       "...                                                   ...         ...      ...  \n",
       "396204                                  微型热管_功能表面_毛细力_剪切力     电子科学与技术       工学  \n",
       "396205  人畜共患病_公共_生活水平提高_畜牧业发展_发病率增加_动物性食品_卫生事件_卫生安全_生活...     畜牧学/兽医学       农学  \n",
       "396206                                 摇摆_单相流_阻力特性_摩擦阻力系数      核科学与技术       工学  \n",
       "396207                                私有出租住房_社会主义改造_私租房改造         历史学      历史学  \n",
       "396208  俄罗斯_政治经济形势_世界社会主义_国际关系学_内容介绍_历史学家_劳动人民_国际会议_报告...         政治学       法学  \n",
       "\n",
       "[396209 rows x 5 columns]"
      ]
     },
     "execution_count": 3,
     "metadata": {},
     "output_type": "execute_result"
    }
   ],
   "source": [
    "data = pd.read_table(\n",
    "    data_path,\n",
    "    on_bad_lines=\"skip\",\n",
    "    header=None,\n",
    ")\n",
    "data = data.rename(\n",
    "    columns={\n",
    "        i: k for i, k in enumerate([\n",
    "            \"title\", \"content\", \"keywords\", \"subject\", \"category\"\n",
    "        ])}\n",
    ")\n",
    "data"
   ]
  },
  {
   "cell_type": "code",
   "execution_count": 4,
   "metadata": {},
   "outputs": [],
   "source": [
    "# 提取出关键词，作为IK Analyzer 分词的补充词典\n",
    "with open(\"。/data/keywords.dic\", 'w', encoding=\"utf-8\") as file:\n",
    "    for i, row in data.iterrows():\n",
    "        file.write(\n",
    "            \"\\n\".join(row[\"keywords\"].split(\"_\"))\n",
    "            + \"\\n\"\n",
    "        )"
   ]
  },
  {
   "cell_type": "code",
   "execution_count": 5,
   "metadata": {
    "ExecuteTime": {
     "end_time": "2023-04-21T13:20:21.234560Z",
     "start_time": "2023-04-21T13:20:21.051568Z"
    }
   },
   "outputs": [
    {
     "data": {
      "text/plain": [
       "array(['农业工程', '化学/化学工程与技术', '动力工程及工程热物理', '兵器科学与技术', '机械工程', '纺织科学与工程',\n",
       "       '大气科学', '园艺学', '哲学', '力学', '水产', '林学/林业工程', '艺术学', '历史学', '农林经济管理',\n",
       "       '地理学', '工商管理', '体育学', '畜牧学/兽医学', '冶金工程', '环境科学与工程', '航空宇航科学与技术',\n",
       "       '船舶与海洋工程', '材料科学与工程', '信息与通信工程', '图书馆、情报与档案管理', '军事学', '核科学与技术',\n",
       "       '建筑学', '矿业工程', '食品科学与工程', '公共管理', '光学工程', '社会学', '交通运输工程', '理论经济学',\n",
       "       '中国语言文学', '土木工程', '电气工程', '药学', '民族学', '计算机科学与技术', '作物学',\n",
       "       '基础医学/临床医学', '新闻传播学', '应用经济学', '电子科学与技术', '测绘科学与技术',\n",
       "       '地质学/地质资源与地质工程', '中医学/中药学', '法学', '水利工程', '数学', '心理学',\n",
       "       '生物学/生物科学与工程', '政治学', '石油与天然气工程', '公共卫生与预防医学', '农业资源利用', '海洋科学',\n",
       "       '教育学', '口腔医学', '物理学', '控制科学与工程', '天文学', '植物保护', '地球物理学'],\n",
       "      dtype=object)"
      ]
     },
     "execution_count": 5,
     "metadata": {},
     "output_type": "execute_result"
    }
   ],
   "source": [
    "data[\"subject\"].unique()"
   ]
  },
  {
   "cell_type": "code",
   "execution_count": 6,
   "metadata": {
    "ExecuteTime": {
     "end_time": "2023-04-21T13:20:21.375567Z",
     "start_time": "2023-04-21T13:20:21.236567Z"
    }
   },
   "outputs": [
    {
     "data": {
      "text/plain": [
       "array(['工学', '理学', '农学', '哲学', '艺术学', '历史学', '管理学', '教育学', '军事学', '法学',\n",
       "       '经济学', '文学', '医学'], dtype=object)"
      ]
     },
     "execution_count": 6,
     "metadata": {},
     "output_type": "execute_result"
    }
   ],
   "source": [
    "data[\"category\"].unique()"
   ]
  },
  {
   "cell_type": "markdown",
   "metadata": {},
   "source": [
    "与ES建立连接，主机请替换为您自己的地址"
   ]
  },
  {
   "cell_type": "code",
   "execution_count": 7,
   "metadata": {
    "ExecuteTime": {
     "end_time": "2023-04-21T13:20:21.410562Z",
     "start_time": "2023-04-21T13:20:21.378567Z"
    }
   },
   "outputs": [
    {
     "data": {
      "text/plain": [
       "{'name': 'node0',\n",
       " 'cluster_name': 'docbase',\n",
       " 'cluster_uuid': '63TQlJkjRvyY3NtujxmYuQ',\n",
       " 'version': {'number': '8.6.1',\n",
       "  'build_flavor': 'default',\n",
       "  'build_type': 'zip',\n",
       "  'build_hash': '180c9830da956993e59e2cd70eb32b5e383ea42c',\n",
       "  'build_date': '2023-01-24T21:35:11.506992272Z',\n",
       "  'build_snapshot': False,\n",
       "  'lucene_version': '9.4.2',\n",
       "  'minimum_wire_compatibility_version': '7.17.0',\n",
       "  'minimum_index_compatibility_version': '7.0.0'},\n",
       " 'tagline': 'You Know, for Search'}"
      ]
     },
     "execution_count": 7,
     "metadata": {},
     "output_type": "execute_result"
    }
   ],
   "source": [
    "es = Elasticsearch(\n",
    "    hosts=\"http://127.0.0.1:9204\",\n",
    ")\n",
    "dict(es.info())"
   ]
  },
  {
   "cell_type": "code",
   "execution_count": 8,
   "metadata": {
    "ExecuteTime": {
     "end_time": "2023-04-21T13:20:21.411563Z",
     "start_time": "2023-04-21T13:20:21.393566Z"
    }
   },
   "outputs": [
    {
     "data": {
      "text/plain": [
       "Invert Index Instance 2728ae77be0 <Elasticsearch(['http://127.0.0.1:9204'])> co_occ_test"
      ]
     },
     "execution_count": 8,
     "metadata": {},
     "output_type": "execute_result"
    }
   ],
   "source": [
    "index = index.InvertedIndex(es)\n",
    "index"
   ]
  },
  {
   "cell_type": "markdown",
   "metadata": {},
   "source": [
    "以\"图书馆、情报与档案管理\",\"新闻传播学\"为例，索引至Elasticsearch"
   ]
  },
  {
   "cell_type": "code",
   "execution_count": 9,
   "metadata": {},
   "outputs": [
    {
     "data": {
      "text/html": [
       "<div>\n",
       "<style scoped>\n",
       "    .dataframe tbody tr th:only-of-type {\n",
       "        vertical-align: middle;\n",
       "    }\n",
       "\n",
       "    .dataframe tbody tr th {\n",
       "        vertical-align: top;\n",
       "    }\n",
       "\n",
       "    .dataframe thead th {\n",
       "        text-align: right;\n",
       "    }\n",
       "</style>\n",
       "<table border=\"1\" class=\"dataframe\">\n",
       "  <thead>\n",
       "    <tr style=\"text-align: right;\">\n",
       "      <th></th>\n",
       "      <th>title</th>\n",
       "      <th>content</th>\n",
       "      <th>keywords</th>\n",
       "      <th>subject</th>\n",
       "      <th>category</th>\n",
       "    </tr>\n",
       "  </thead>\n",
       "  <tbody>\n",
       "    <tr>\n",
       "      <th>31</th>\n",
       "      <td>公共文化服务网络治理:主体、关系与模式</td>\n",
       "      <td>公共文化服务网络治理是一个对传统公共文化服务体系在结构、机制、模式上的转换重构过程.在这个过...</td>\n",
       "      <td>公共文化服务_网络治理_治理</td>\n",
       "      <td>图书馆、情报与档案管理</td>\n",
       "      <td>管理学</td>\n",
       "    </tr>\n",
       "    <tr>\n",
       "      <th>72</th>\n",
       "      <td>纸媒亦可开发“粉丝”经济——《扬子晚报》教育板块运营的探索与实践</td>\n",
       "      <td>《扬子晚报》教育板块通过搭建各种线下平台,采取线下活动与报纸版面宣传紧密结合的方式,与广告主...</td>\n",
       "      <td>纸媒困境_经营_教育_平台_扬子晚报</td>\n",
       "      <td>新闻传播学</td>\n",
       "      <td>文学</td>\n",
       "    </tr>\n",
       "    <tr>\n",
       "      <th>110</th>\n",
       "      <td>《人民日报》全媒体战略的布局与思考</td>\n",
       "      <td>主流媒体不挺“声”而出，发出权威信息，就不叫主流。主流是领跑，不是跟着跑。互联网时代，主流媒...</td>\n",
       "      <td>全媒体战略_技术革命颠覆式创新</td>\n",
       "      <td>新闻传播学</td>\n",
       "      <td>文学</td>\n",
       "    </tr>\n",
       "    <tr>\n",
       "      <th>159</th>\n",
       "      <td>网络环境下图书借阅流通服务创新思考</td>\n",
       "      <td>从图书借阅流通服务模式的变革历史诠释开始,通过网络环境下对图书馆信息流通服务的影响和图书馆信...</td>\n",
       "      <td>网络环境_图书馆_信息流通_图书借阅_服务创新</td>\n",
       "      <td>图书馆、情报与档案管理</td>\n",
       "      <td>管理学</td>\n",
       "    </tr>\n",
       "    <tr>\n",
       "      <th>184</th>\n",
       "      <td>师者,解惑也——读《南京大学百年学术精品--图书馆学卷》</td>\n",
       "      <td>《南京大学百年学术精品--图书馆学卷》是一部治学及指导实践难得的好书.一个百年名校出版这本书...</td>\n",
       "      <td>图书馆学_教育_评论</td>\n",
       "      <td>图书馆、情报与档案管理</td>\n",
       "      <td>管理学</td>\n",
       "    </tr>\n",
       "    <tr>\n",
       "      <th>...</th>\n",
       "      <td>...</td>\n",
       "      <td>...</td>\n",
       "      <td>...</td>\n",
       "      <td>...</td>\n",
       "      <td>...</td>\n",
       "    </tr>\n",
       "    <tr>\n",
       "      <th>396127</th>\n",
       "      <td>“南方号”:推动政府治理现代化的产品创新之路</td>\n",
       "      <td>由南方+客户端推出的“南方号”,集聚整合广东省各级各地党政机关的信息发布资源和政务服务资源,...</td>\n",
       "      <td>南方+南方号_权威信息_智慧城市_自媒体平台</td>\n",
       "      <td>新闻传播学</td>\n",
       "      <td>文学</td>\n",
       "    </tr>\n",
       "    <tr>\n",
       "      <th>396164</th>\n",
       "      <td>质疑认宗医学的阅读疗法</td>\n",
       "      <td>认宗医学的阅读疗法以独立于阅读个体特质的书方为研究对象,以类似临床数据为研究模式,把书方作为...</td>\n",
       "      <td>阅读疗法_认宗医学_现代解释学_弗洛伊德_阅读主体</td>\n",
       "      <td>图书馆、情报与档案管理</td>\n",
       "      <td>管理学</td>\n",
       "    </tr>\n",
       "    <tr>\n",
       "      <th>396168</th>\n",
       "      <td>图书馆服务接触失误的补救管理综合模型</td>\n",
       "      <td>服务补救是图书馆针对服务接触失误所采取的提高服务质量、减少失误产生的一项管理活动.图书馆服务...</td>\n",
       "      <td>图书馆_服务接触_服务失误_服务补救</td>\n",
       "      <td>图书馆、情报与档案管理</td>\n",
       "      <td>管理学</td>\n",
       "    </tr>\n",
       "    <tr>\n",
       "      <th>396193</th>\n",
       "      <td>从发布平台到参与平台——Web2.0时代的《华西都市报》品牌经营之路</td>\n",
       "      <td>近年来在新兴媒体层出不穷,竞争日趋激烈的情况下,原有的信息发布平台的角色面临新的转型,在w...</td>\n",
       "      <td>信息发布平台_时代_都市_品牌经营_转型_体层_思路_模式_竞争_角色_报纸</td>\n",
       "      <td>新闻传播学</td>\n",
       "      <td>文学</td>\n",
       "    </tr>\n",
       "    <tr>\n",
       "      <th>396202</th>\n",
       "      <td>媒介人力资源的三维规划模式</td>\n",
       "      <td>三维规划,是指从员工的数量、质量和员工期望三个维度来进行人力资源规划的一种规划模式.</td>\n",
       "      <td>媒介_人力资源_三维_资源规划_员工_三个维度_规划模式_质量_行人_工期</td>\n",
       "      <td>新闻传播学</td>\n",
       "      <td>文学</td>\n",
       "    </tr>\n",
       "  </tbody>\n",
       "</table>\n",
       "<p>13729 rows × 5 columns</p>\n",
       "</div>"
      ],
      "text/plain": [
       "                                     title   \n",
       "31                     公共文化服务网络治理:主体、关系与模式  \\\n",
       "72        纸媒亦可开发“粉丝”经济——《扬子晚报》教育板块运营的探索与实践   \n",
       "110                      《人民日报》全媒体战略的布局与思考   \n",
       "159                      网络环境下图书借阅流通服务创新思考   \n",
       "184           师者,解惑也——读《南京大学百年学术精品--图书馆学卷》   \n",
       "...                                    ...   \n",
       "396127              “南方号”:推动政府治理现代化的产品创新之路   \n",
       "396164                         质疑认宗医学的阅读疗法   \n",
       "396168                  图书馆服务接触失误的补救管理综合模型   \n",
       "396193  从发布平台到参与平台——Web2.0时代的《华西都市报》品牌经营之路   \n",
       "396202                       媒介人力资源的三维规划模式   \n",
       "\n",
       "                                                  content   \n",
       "31      公共文化服务网络治理是一个对传统公共文化服务体系在结构、机制、模式上的转换重构过程.在这个过...  \\\n",
       "72      《扬子晚报》教育板块通过搭建各种线下平台,采取线下活动与报纸版面宣传紧密结合的方式,与广告主...   \n",
       "110     主流媒体不挺“声”而出，发出权威信息，就不叫主流。主流是领跑，不是跟着跑。互联网时代，主流媒...   \n",
       "159     从图书借阅流通服务模式的变革历史诠释开始,通过网络环境下对图书馆信息流通服务的影响和图书馆信...   \n",
       "184     《南京大学百年学术精品--图书馆学卷》是一部治学及指导实践难得的好书.一个百年名校出版这本书...   \n",
       "...                                                   ...   \n",
       "396127  由南方+客户端推出的“南方号”,集聚整合广东省各级各地党政机关的信息发布资源和政务服务资源,...   \n",
       "396164  认宗医学的阅读疗法以独立于阅读个体特质的书方为研究对象,以类似临床数据为研究模式,把书方作为...   \n",
       "396168  服务补救是图书馆针对服务接触失误所采取的提高服务质量、减少失误产生的一项管理活动.图书馆服务...   \n",
       "396193   近年来在新兴媒体层出不穷,竞争日趋激烈的情况下,原有的信息发布平台的角色面临新的转型,在w...   \n",
       "396202         三维规划,是指从员工的数量、质量和员工期望三个维度来进行人力资源规划的一种规划模式.   \n",
       "\n",
       "                                      keywords      subject category  \n",
       "31                              公共文化服务_网络治理_治理  图书馆、情报与档案管理      管理学  \n",
       "72                          纸媒困境_经营_教育_平台_扬子晚报        新闻传播学       文学  \n",
       "110                            全媒体战略_技术革命颠覆式创新        新闻传播学       文学  \n",
       "159                    网络环境_图书馆_信息流通_图书借阅_服务创新  图书馆、情报与档案管理      管理学  \n",
       "184                                 图书馆学_教育_评论  图书馆、情报与档案管理      管理学  \n",
       "...                                        ...          ...      ...  \n",
       "396127                  南方+南方号_权威信息_智慧城市_自媒体平台        新闻传播学       文学  \n",
       "396164               阅读疗法_认宗医学_现代解释学_弗洛伊德_阅读主体  图书馆、情报与档案管理      管理学  \n",
       "396168                      图书馆_服务接触_服务失误_服务补救  图书馆、情报与档案管理      管理学  \n",
       "396193  信息发布平台_时代_都市_品牌经营_转型_体层_思路_模式_竞争_角色_报纸        新闻传播学       文学  \n",
       "396202   媒介_人力资源_三维_资源规划_员工_三个维度_规划模式_质量_行人_工期        新闻传播学       文学  \n",
       "\n",
       "[13729 rows x 5 columns]"
      ]
     },
     "execution_count": 9,
     "metadata": {},
     "output_type": "execute_result"
    }
   ],
   "source": [
    "sub_data = data[data[\"subject\"].isin([\"图书馆、情报与档案管理\",\"新闻传播学\"])]\n",
    "sub_data"
   ]
  },
  {
   "cell_type": "code",
   "execution_count": 10,
   "metadata": {
    "ExecuteTime": {
     "end_time": "2023-04-21T13:20:21.432566Z",
     "start_time": "2023-04-21T13:20:21.410562Z"
    }
   },
   "outputs": [
    {
     "name": "stdout",
     "output_type": "stream",
     "text": [
      "{'acknowledged': True}\n"
     ]
    }
   ],
   "source": [
    "try:\n",
    "    res = index.delete_index_and_data()\n",
    "    print(res)\n",
    "except Exception as e:\n",
    "    print(e)"
   ]
  },
  {
   "cell_type": "code",
   "execution_count": 11,
   "metadata": {
    "ExecuteTime": {
     "end_time": "2023-04-21T13:48:59.098613Z",
     "start_time": "2023-04-21T13:20:21.428572Z"
    }
   },
   "outputs": [
    {
     "name": "stdout",
     "output_type": "stream",
     "text": [
      "{'acknowledged': True, 'shards_acknowledged': True, 'index': 'co_occ_test'}\n"
     ]
    },
    {
     "data": {
      "text/plain": [
       "(13729, [])"
      ]
     },
     "execution_count": 11,
     "metadata": {},
     "output_type": "execute_result"
    }
   ],
   "source": [
    "print(index.set_index())\n",
    "index.index_data(\n",
    "    sub_data[\"title\"]\n",
    ")\n"
   ]
  },
  {
   "cell_type": "code",
   "execution_count": 12,
   "metadata": {
    "ExecuteTime": {
     "end_time": "2023-04-21T13:48:59.130621Z",
     "start_time": "2023-04-21T13:48:59.099621Z"
    }
   },
   "outputs": [
    {
     "data": {
      "text/plain": [
       "Invert Index Instance 2728ae77be0 <Elasticsearch(['http://127.0.0.1:9204'])> co_occ_test"
      ]
     },
     "execution_count": 12,
     "metadata": {},
     "output_type": "execute_result"
    }
   ],
   "source": [
    "index"
   ]
  }
 ],
 "metadata": {
  "kernelspec": {
   "display_name": "Python 3 (ipykernel)",
   "language": "python",
   "name": "python3"
  },
  "language_info": {
   "codemirror_mode": {
    "name": "ipython",
    "version": 3
   },
   "file_extension": ".py",
   "mimetype": "text/x-python",
   "name": "python",
   "nbconvert_exporter": "python",
   "pygments_lexer": "ipython3",
   "version": "3.9.13"
  }
 },
 "nbformat": 4,
 "nbformat_minor": 2
}
